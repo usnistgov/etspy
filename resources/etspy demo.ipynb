{
 "cells": [
  {
   "cell_type": "markdown",
   "metadata": {},
   "source": [
    "# ETSpy Demo\n",
    "This notebook demonstrates the basic use and functionality of the ETSpy package.\n",
    "\n",
    "It covers:\n",
    "* Loading simulated data\n",
    "* Basic plotting of tilt series data\n",
    "* Reconstruction of single slices of simulated data\n",
    "* Reconstruction of the full simluated dataset\n",
    "* Saving reconstructed data"
   ]
  },
  {
   "cell_type": "markdown",
   "metadata": {},
   "source": [
    "# Imports\n",
    "For interactive plotting, we set the Matplotlib backend to `widget`.\n",
    "\n",
    "In addition to the `etspy` package itself we also need to import:\n",
    "* PyPlot from MatplotLib\n",
    "* Hyperspy\n",
    "\n",
    "Finally, we also need to import the `datasets` module of `etspy` in order to load the simluated data we will be working with.\n"
   ]
  },
  {
   "cell_type": "code",
   "execution_count": null,
   "metadata": {},
   "outputs": [],
   "source": [
    "%matplotlib inline\n",
    "\n",
    "## Set to widget for interactive plots\n",
    "# %matplotlibl widget\n",
    "\n",
    "import matplotlib.pyplot as plt\n",
    "import hyperspy.api as hs\n",
    "\n",
    "import etspy.api as tomo\n",
    "from etspy"
   ]
  },
  {
   "cell_type": "markdown",
   "metadata": {},
   "source": [
    "# Simulated Catalyst Tilt Series\n",
    "\n",
    "## Load Data\n",
    "* Read simulated catalyst tilt series as a TomoStack object\n",
    "* Each image is shifted randomly to simulate specimen motion during tilt series acquisition"
   ]
  },
  {
   "cell_type": "code",
   "execution_count": null,
   "metadata": {},
   "outputs": [],
   "source": [
    "stack = ds.get_catalyst_tilt_series(misalign=True)"
   ]
  },
  {
   "cell_type": "code",
   "execution_count": null,
   "metadata": {},
   "outputs": [],
   "source": [
    "stack.metadata.Tomography"
   ]
  },
  {
   "cell_type": "markdown",
   "metadata": {},
   "source": [
    "## Rebin the data\n",
    "* To speed things up, we can rebin the dataset by a factor of 2 in the X and Y dimensions\n",
    "* Uses the underlying Hyperspy rebin method which all TomoStack's inherit from their parent `Signal2D` class"
   ]
  },
  {
   "cell_type": "code",
   "execution_count": null,
   "metadata": {},
   "outputs": [],
   "source": [
    "rebin = stack.rebin(scale=[1, 2, 2])\n",
    "rebin"
   ]
  },
  {
   "cell_type": "markdown",
   "metadata": {},
   "source": [
    "## Browse the Rebinned Data\n",
    "* Uses Hyperspy's plotting functionality\n",
    "* Plot and view the full series interactively\n",
    "* Plot a max image of the dataset which emphasizes the misalignment of the stack"
   ]
  },
  {
   "cell_type": "code",
   "execution_count": null,
   "metadata": {},
   "outputs": [],
   "source": [
    "rebin.plot(cmap='inferno')"
   ]
  },
  {
   "cell_type": "code",
   "execution_count": null,
   "metadata": {},
   "outputs": [],
   "source": [
    "rebin.max().plot(cmap='inferno')"
   ]
  },
  {
   "cell_type": "markdown",
   "metadata": {},
   "source": [
    "## Stack Registration\n",
    "* Five methods available:\n",
    "    * Phase correlation (OpenCV)\n",
    "    * Enhanced correlation coefficient (OpenCV)\n",
    "    * StackReg (pystackreg)\n",
    "    * Center of Mass (T. Sanders et al. doi:10.13140/RG.2.2.33492.60801)\n",
    "    * Combined Center of Mass and Common-Line Method (UCLA, Scott et al. doi:10.1038/nature10934)"
   ]
  },
  {
   "cell_type": "code",
   "execution_count": null,
   "metadata": {},
   "outputs": [],
   "source": [
    "reg = rebin.stack_register('StackReg')"
   ]
  },
  {
   "cell_type": "code",
   "execution_count": null,
   "metadata": {},
   "outputs": [],
   "source": [
    "reg.max().plot(cmap='inferno')"
   ]
  },
  {
   "cell_type": "markdown",
   "metadata": {},
   "source": [
    "## Reconstruction"
   ]
  },
  {
   "cell_type": "markdown",
   "metadata": {},
   "source": [
    "### Plot single image alongside the sinogram of the central slice"
   ]
  },
  {
   "cell_type": "code",
   "execution_count": null,
   "metadata": {},
   "outputs": [],
   "source": [
    "sino = reg.isig[150,:].as_signal2D((1,0))\n",
    "\n",
    "ax = hs.plot.plot_images([sino, reg.inav[45]], cmap='inferno',per_row=2, label=['Sinogram','FBP Reconstruction'])\n",
    "ax[1].axhline(300, linestyle='--', color='red')\n",
    "plt.gcf().set_size_inches((8,4))\n",
    "plt.tight_layout()"
   ]
  },
  {
   "cell_type": "markdown",
   "metadata": {},
   "source": [
    "### Filtered Backprojection of Single Slice"
   ]
  },
  {
   "cell_type": "code",
   "execution_count": null,
   "metadata": {},
   "outputs": [],
   "source": [
    "recFBP = reg.isig[150:151, :].reconstruct('FBP', cuda=False)"
   ]
  },
  {
   "cell_type": "code",
   "execution_count": null,
   "metadata": {},
   "outputs": [],
   "source": [
    "ax = hs.plot.plot_images([sino, recFBP], cmap='inferno',per_row=2, label=['Sinogram','FBP Reconstruction'])\n",
    "plt.gcf().set_size_inches((8,4))\n",
    "plt.tight_layout()"
   ]
  },
  {
   "cell_type": "markdown",
   "metadata": {},
   "source": [
    "### SIRT Error Analysis\n",
    "* Perform a SIRT reconstruction and calculate the L2-norm between the forward-projection of each result and the input sinogram\n",
    "* The reconstruction result is also saved at each iteration for viewing\n",
    "* Note: Currently, the error output differs between CUDA- and CPU-based reconstructions.  Cause is unknown."
   ]
  },
  {
   "cell_type": "code",
   "execution_count": null,
   "metadata": {},
   "outputs": [],
   "source": [
    "SIRTStack, SIRTerror = reg.isig[150:151, :].recon_error(iterations = 500)\n",
    "SIRTStack.axes_manager[2].name = 'z'"
   ]
  },
  {
   "cell_type": "code",
   "execution_count": null,
   "metadata": {},
   "outputs": [],
   "source": [
    "SIRTStack.plot(navigator=SIRTerror, cmap='inferno')"
   ]
  },
  {
   "cell_type": "code",
   "execution_count": null,
   "metadata": {},
   "outputs": [],
   "source": [
    "ax = hs.plot.plot_images([SIRTStack.inav[0],SIRTStack.inav[19],SIRTStack.inav[49],\n",
    "                         SIRTStack.inav[99], SIRTStack.inav[249], SIRTStack.inav[499]], cmap='inferno',\n",
    "                         axes_decor='off',\n",
    "                         label=['Iterations: 1','Iterations: 20','Iterations: 50',\n",
    "                                'Iterations: 100','Iterations: 250','Iterations: 500'])\n",
    "plt.gcf().set_size_inches(12,6)\n",
    "plt.tight_layout()"
   ]
  },
  {
   "cell_type": "markdown",
   "metadata": {},
   "source": [
    "### Reconstruct the entire binned stack\n",
    "* Takes less than 10 seconds"
   ]
  },
  {
   "cell_type": "code",
   "execution_count": null,
   "metadata": {},
   "outputs": [],
   "source": [
    "recFBP = reg.reconstruct('FBP', cuda=True)\n",
    "recSIRT = reg.reconstruct('SIRT', iterations=100, constrain=True, cuda=True)"
   ]
  },
  {
   "cell_type": "code",
   "execution_count": null,
   "metadata": {},
   "outputs": [],
   "source": [
    "recFBP.plot(vmax=2000, cmap='inferno')"
   ]
  },
  {
   "cell_type": "code",
   "execution_count": null,
   "metadata": {},
   "outputs": [],
   "source": [
    "recSIRT.plot(vmax=2000, cmap='inferno')"
   ]
  },
  {
   "cell_type": "code",
   "execution_count": null,
   "metadata": {},
   "outputs": [],
   "source": [
    "recSIRT.swap_axes(0,2).plot(vmax=2000, cmap='inferno')"
   ]
  },
  {
   "cell_type": "markdown",
   "metadata": {},
   "source": [
    "### Save the Reconstruction Results\n",
    "* Hyperspy-compatible HDF5 is the output format"
   ]
  },
  {
   "cell_type": "code",
   "execution_count": null,
   "metadata": {},
   "outputs": [],
   "source": [
    "recFBP.save('FBP_Reconstruction.hdf5', overwrite=True)\n",
    "recSIRT.save('SIRT_Reconstruction_100.hdf5', overwrite=True)"
   ]
  },
  {
   "cell_type": "markdown",
   "metadata": {},
   "source": [
    "# Experimental Needle-shaped Sample Tilt Series\n",
    "* FIB-milled specimen from NIST SRM-2135c\n",
    "    * Ni/Cr mutli-layer thin film on silicon substrate"
   ]
  },
  {
   "cell_type": "code",
   "execution_count": null,
   "metadata": {},
   "outputs": [],
   "source": [
    "stack = ds.get_needle_data()"
   ]
  },
  {
   "cell_type": "code",
   "execution_count": null,
   "metadata": {},
   "outputs": [],
   "source": [
    "stack.plot(navigator='slider')"
   ]
  },
  {
   "cell_type": "markdown",
   "metadata": {},
   "source": [
    "## Stack Registration\n",
    "* Five methods available:\n",
    "    * Phase correlation (OpenCV)\n",
    "    * Enhanced correlation coefficient (OpenCV)\n",
    "    * StackReg (pystackreg)\n",
    "    * Center of Mass (T. Sanders et al. doi:10.13140/RG.2.2.33492.60801)\n",
    "    * Combined Center of Mass and Common-Line Method (UCLA, Scott et al. doi:10.1038/nature10934)"
   ]
  },
  {
   "cell_type": "code",
   "execution_count": null,
   "metadata": {},
   "outputs": [],
   "source": [
    "reg = stack.stack_register('StackReg')"
   ]
  },
  {
   "cell_type": "code",
   "execution_count": null,
   "metadata": {},
   "outputs": [],
   "source": [
    "reg.plot(navigator='slider')"
   ]
  },
  {
   "cell_type": "code",
   "execution_count": null,
   "metadata": {},
   "outputs": [],
   "source": [
    "reg.swap_axes(1,2).test_align(slices=[10,100,140])"
   ]
  },
  {
   "cell_type": "markdown",
   "metadata": {},
   "source": [
    "## Tilt Axis Alignment\n",
    "* Uses the center of mass method (CoM)\n",
    "* Motion of specimen is fit to that expected for an ideal cylinder\n",
    "* Fit is performed for three different sinograms \n",
    "* The result is used to estimate the tilt axis shift and rotation"
   ]
  },
  {
   "cell_type": "code",
   "execution_count": null,
   "metadata": {},
   "outputs": [],
   "source": [
    "ali = reg.tilt_align('CoM')"
   ]
  },
  {
   "cell_type": "code",
   "execution_count": null,
   "metadata": {},
   "outputs": [],
   "source": [
    "ali.test_align(slices=[10,100,140])"
   ]
  },
  {
   "cell_type": "code",
   "execution_count": null,
   "metadata": {},
   "outputs": [],
   "source": [
    "ali.plot()"
   ]
  },
  {
   "cell_type": "markdown",
   "metadata": {},
   "source": [
    "## Reconstruction"
   ]
  },
  {
   "cell_type": "code",
   "execution_count": null,
   "metadata": {},
   "outputs": [],
   "source": [
    "rec = ali.reconstruct('SIRT', 500, constrain=True)"
   ]
  },
  {
   "cell_type": "code",
   "execution_count": null,
   "metadata": {},
   "outputs": [],
   "source": [
    "rec.inav[10:205].plot(cmap='inferno', vmin=50, vmax=1200)"
   ]
  },
  {
   "cell_type": "code",
   "execution_count": null,
   "metadata": {},
   "outputs": [],
   "source": [
    "rec.isig[:,90:165].swap_axes(2,0).plot(cmap='inferno', vmin=50)"
   ]
  },
  {
   "cell_type": "code",
   "execution_count": null,
   "metadata": {},
   "outputs": [],
   "source": []
  },
  {
   "cell_type": "code",
   "execution_count": null,
   "metadata": {},
   "outputs": [],
   "source": []
  }
 ],
 "metadata": {
  "kernelspec": {
   "display_name": "tomo",
   "language": "python",
   "name": "python3"
  },
  "language_info": {
   "codemirror_mode": {
    "name": "ipython",
    "version": 3
   },
   "file_extension": ".py",
   "mimetype": "text/x-python",
   "name": "python",
   "nbconvert_exporter": "python",
   "pygments_lexer": "ipython3",
   "version": "3.11.8"
  },
  "toc-autonumbering": false,
  "toc-showcode": false,
  "toc-showmarkdowntxt": false,
  "toc-showtags": false
 },
 "nbformat": 4,
 "nbformat_minor": 4
}
